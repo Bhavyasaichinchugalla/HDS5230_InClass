{
 "cells": [
  {
   "cell_type": "markdown",
   "metadata": {},
   "source": [
    "# Python - Bits and Bytes"
   ]
  },
  {
   "cell_type": "markdown",
   "metadata": {},
   "source": [
    "## Libraries"
   ]
  },
  {
   "cell_type": "code",
   "execution_count": 3,
   "metadata": {},
   "outputs": [],
   "source": [
    "import sys\n",
    "import pandas as pd\n",
    "import matplotlib\n",
    "import matplotlib.pyplot as plt\n",
    "import numpy as np\n",
    "import seaborn as sns\n",
    "import os\n",
    "import textwrap"
   ]
  },
  {
   "cell_type": "code",
   "execution_count": 4,
   "metadata": {},
   "outputs": [],
   "source": [
    "## Enable inline plotting for graphics\n",
    "%matplotlib inline\n",
    "## So all output comes through from Ipython\n",
    "from IPython.core.interactiveshell import InteractiveShell\n",
    "InteractiveShell.ast_node_interactivity = \"all\""
   ]
  },
  {
   "cell_type": "code",
   "execution_count": 6,
   "metadata": {},
   "outputs": [
    {
     "name": "stdout",
     "output_type": "stream",
     "text": [
      "3.6.8 |Anaconda custom (64-bit)| (default, Dec 30 2018, 18:50:55) [MSC\n",
      "v.1915 64 bit (AMD64)] \n",
      "\n",
      "Pandas version: 0.23.4\n",
      "Matplotlib version: 3.0.2\n",
      "Numpy version: 1.15.4\n",
      "Seaborn version: 0.9.0\n"
     ]
    }
   ],
   "source": [
    "## Get Version information\n",
    "print(textwrap.fill(sys.version),'\\n')\n",
    "print(\"Pandas version: {0}\".format(pd.__version__))\n",
    "print(\"Matplotlib version: {0}\".format(matplotlib.__version__))\n",
    "print(\"Numpy version: {0}\".format(np.__version__))\n",
    "print(\"Seaborn version: {0}\".format(sns.__version__))"
   ]
  },
  {
   "cell_type": "markdown",
   "metadata": {},
   "source": [
    "Set the pandas row print for reasonable output:"
   ]
  },
  {
   "cell_type": "code",
   "execution_count": 8,
   "metadata": {},
   "outputs": [],
   "source": [
    "pd.options.display.max_rows = 10"
   ]
  },
  {
   "cell_type": "code",
   "execution_count": 7,
   "metadata": {},
   "outputs": [],
   "source": [
    "## So all output comes through from Ipython\n",
    "from IPython.core.interactiveshell import InteractiveShell\n",
    "InteractiveShell.ast_node_interactivity = \"all\""
   ]
  },
  {
   "cell_type": "markdown",
   "metadata": {},
   "source": [
    "## Understanding Binary Data: bits and bytes"
   ]
  },
  {
   "cell_type": "markdown",
   "metadata": {},
   "source": [
    "All of the data on your computer is stored in a binary format, which is a series of zero's and one's. Let's first think about what binary data is. Binary data can only take the value of a one or a zero, unlike our base-10 data where there are 10 possible values (0-9). \n",
    "\n",
    "We can convert integers into a binary format using the string format statments to illustrate. The number 0 is simply 0, and the number 1 is simply 1. We can also use the `bin` function. The `bin()` functions returns the binary representation of the integer, including a leading '0b'."
   ]
  },
  {
   "cell_type": "code",
   "execution_count": 10,
   "metadata": {},
   "outputs": [
    {
     "data": {
      "text/plain": [
       "'0'"
      ]
     },
     "execution_count": 10,
     "metadata": {},
     "output_type": "execute_result"
    },
    {
     "data": {
      "text/plain": [
       "'0b0'"
      ]
     },
     "execution_count": 10,
     "metadata": {},
     "output_type": "execute_result"
    }
   ],
   "source": [
    "## binary as zero's and one's \n",
    "## convert integers in base 10 to a binary representation\n",
    "\"{0:b}\".format(0)\n",
    "bin(0)"
   ]
  },
  {
   "cell_type": "code",
   "execution_count": 11,
   "metadata": {},
   "outputs": [
    {
     "data": {
      "text/plain": [
       "'1'"
      ]
     },
     "execution_count": 11,
     "metadata": {},
     "output_type": "execute_result"
    }
   ],
   "source": [
    "## binary as zero's and one's \n",
    "## convert integers in base 10 to a binary representation\n",
    "\"{0:b}\".format(1)"
   ]
  },
  {
   "cell_type": "markdown",
   "metadata": {},
   "source": [
    "However, the number 3 requires another 'digit' (just like going from 9 to 10 using base-10)."
   ]
  },
  {
   "cell_type": "code",
   "execution_count": 13,
   "metadata": {},
   "outputs": [
    {
     "data": {
      "text/plain": [
       "'10'"
      ]
     },
     "execution_count": 13,
     "metadata": {},
     "output_type": "execute_result"
    }
   ],
   "source": [
    "## binary as zero's and one's \n",
    "## convert integers in base 10 to a binary representation\n",
    "\"{0:b}\".format(2)"
   ]
  },
  {
   "cell_type": "code",
   "execution_count": 14,
   "metadata": {},
   "outputs": [
    {
     "data": {
      "text/plain": [
       "'11'"
      ]
     },
     "execution_count": 14,
     "metadata": {},
     "output_type": "execute_result"
    }
   ],
   "source": [
    "## binary as zero's and one's \n",
    "## convert integers in base 10 to a binary representation\n",
    "\"{0:b}\".format(3)"
   ]
  },
  {
   "cell_type": "markdown",
   "metadata": {},
   "source": [
    "And of course the number 4 requires another digit."
   ]
  },
  {
   "cell_type": "code",
   "execution_count": 15,
   "metadata": {},
   "outputs": [
    {
     "data": {
      "text/plain": [
       "'100'"
      ]
     },
     "execution_count": 15,
     "metadata": {},
     "output_type": "execute_result"
    }
   ],
   "source": [
    "## binary as zero's and one's \n",
    "## convert integers in base 10 to a binary representation\n",
    "\"{0:b}\".format(4)"
   ]
  },
  {
   "cell_type": "markdown",
   "metadata": {},
   "source": [
    "A larger number like 2435 would require more digits:"
   ]
  },
  {
   "cell_type": "code",
   "execution_count": 16,
   "metadata": {},
   "outputs": [
    {
     "data": {
      "text/plain": [
       "'100110000011'"
      ]
     },
     "execution_count": 16,
     "metadata": {},
     "output_type": "execute_result"
    }
   ],
   "source": [
    "## binary as zero's and one's \n",
    "## convert integers in base 10 to a binary representation\n",
    "\"{0:b}\".format(2435)"
   ]
  },
  {
   "cell_type": "markdown",
   "metadata": {},
   "source": [
    "However, we usually group bits into groups of 8. These 8 bits together are called a 'byte'. Question - how many unique integers can be stored under 8 bits (one byte)? What about 2 bytes? What about 4 bytes? "
   ]
  },
  {
   "cell_type": "code",
   "execution_count": 17,
   "metadata": {},
   "outputs": [
    {
     "data": {
      "text/plain": [
       "256"
      ]
     },
     "execution_count": 17,
     "metadata": {},
     "output_type": "execute_result"
    }
   ],
   "source": [
    "# One byte\n",
    "2**8"
   ]
  },
  {
   "cell_type": "markdown",
   "metadata": {},
   "source": [
    "We usually talk about bytes on the computer rather than bits. There are 256 possible values per byte, which is represented by 8 zero's or ones - 00000000 to 11111111. "
   ]
  },
  {
   "cell_type": "code",
   "execution_count": 19,
   "metadata": {},
   "outputs": [
    {
     "data": {
      "text/plain": [
       "'00000000'"
      ]
     },
     "execution_count": 19,
     "metadata": {},
     "output_type": "execute_result"
    },
    {
     "data": {
      "text/plain": [
       "'11111111'"
      ]
     },
     "execution_count": 19,
     "metadata": {},
     "output_type": "execute_result"
    }
   ],
   "source": [
    "## Use the full 8 bits and show the integer 0\n",
    "\"{0:08b}\".format(0)\n",
    "\n",
    "## Use the full 8 bits and show the integer 255\n",
    "\"{0:08b}\".format(255)"
   ]
  },
  {
   "cell_type": "markdown",
   "metadata": {},
   "source": [
    "The notion of datatypes in Python is based on C data types (especially numpy and Pandas). \n",
    "\n",
    "Check out these wiki page:\n",
    "\n",
    "https://en.wikipedia.org/wiki/C_data_types\n",
    "\n",
    "or the python docs:\n",
    "\n",
    "https://docs.python.org/3.6/library/struct.html\n",
    "\n",
    "to learn more about C data types."
   ]
  },
  {
   "cell_type": "markdown",
   "metadata": {},
   "source": [
    "One other thing we need to note. If an integer is 2 bytes long, but our number is small enough to only use one of those four bytes, then there will be 2 empty bytes. In that case, where the empty bytes go? Should they go on the left side, or the right side? The concept is this in regular numbers, using the number 4 as an example:\n",
    "\n",
    "40\n",
    "04\n",
    "\n",
    "Both could be considered the integer 4, depending on whether we are right or left padding the zeros. That is an odd concept in regular numbers, clearly we would left pad. For bytes however, different systems do it different ways. This behaviour is called 'endianess', and the native binary data is either big-endian or little-endian, depending on which computer generated the data! `<` means little-endian, and `>` means big endian. That indicates whether the 'most significant byte' comes first or last in the byte order. These are included in the format string of the struct methods (you will see in a moment). If you don't include one, struct assumes you want the native (to your system) endianness. "
   ]
  },
  {
   "cell_type": "markdown",
   "metadata": {},
   "source": [
    "Let's finally see an example. We will convert a python integer into a C type short integer. The C type short integer has at least 2 bytes (even if it is small). Quick question - if an integer is two bytes long, how many possible numbers can it be? "
   ]
  },
  {
   "cell_type": "code",
   "execution_count": 20,
   "metadata": {},
   "outputs": [
    {
     "data": {
      "text/plain": [
       "65536"
      ]
     },
     "execution_count": 20,
     "metadata": {},
     "output_type": "execute_result"
    }
   ],
   "source": [
    "## Answer: 8 bits to a byte, 2 states for each bit (zero or one):\n",
    "2**16"
   ]
  },
  {
   "cell_type": "markdown",
   "metadata": {},
   "source": [
    "So if we suspect a data element will be an integer less than 65536, a short integer is a good choice to save space (only two bytes). We could also consider using a regular integer, but that will use 4 bytes. How big of an integer can we capture with 4 bytes?"
   ]
  },
  {
   "cell_type": "code",
   "execution_count": 21,
   "metadata": {},
   "outputs": [
    {
     "data": {
      "text/plain": [
       "4294967296"
      ]
     },
     "execution_count": 21,
     "metadata": {},
     "output_type": "execute_result"
    }
   ],
   "source": [
    "## pretty big. \n",
    "2**32"
   ]
  },
  {
   "cell_type": "markdown",
   "metadata": {},
   "source": [
    "But if we use a regular integer, we must use at least 4 bytes, even if the number happens to be small...so we may try to choose the most compact `c` data type possible to save the empty bytes in our file! In Python we don't care, we just have integers...one example of why Python is 'higher level' and C is 'lower level' coding. "
   ]
  }
 ],
 "metadata": {
  "kernelspec": {
   "display_name": "Python 3",
   "language": "python",
   "name": "python3"
  },
  "language_info": {
   "codemirror_mode": {
    "name": "ipython",
    "version": 3
   },
   "file_extension": ".py",
   "mimetype": "text/x-python",
   "name": "python",
   "nbconvert_exporter": "python",
   "pygments_lexer": "ipython3",
   "version": "3.6.8"
  }
 },
 "nbformat": 4,
 "nbformat_minor": 2
}

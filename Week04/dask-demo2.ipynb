{
 "cells": [
  {
   "cell_type": "code",
   "execution_count": 31,
   "metadata": {},
   "outputs": [],
   "source": [
    "import time\n",
    "import dask.bag as db\n",
    "import matplotlib.pylab as plt\n",
    "from functools import partial"
   ]
  },
  {
   "cell_type": "code",
   "execution_count": null,
   "metadata": {},
   "outputs": [
    {
     "name": "stdout",
     "output_type": "stream",
     "text": [
      "Block size =  10\n",
      "Block size =  100\n",
      "Block size =  1000\n",
      "Block size =  10000\n",
      "Block size =  100000\n",
      "Block size =  1000000\n",
      "Block size =  10000000\n",
      "Block size =  100000000\n",
      "Block size =  1000000000\n",
      "[('and', 1553), ('to', 1390), ('the', 1326), ('of', 974), ('a', 951), ('that', 905), ('you', 733), ('in', 664), ('I', 664), ('we', 487)]\n"
     ]
    }
   ],
   "source": [
    "timings = {}\n",
    "block = 10\n",
    "for i in range (1, 10) :\n",
    "    print(\"Block size = \",  block)\n",
    "    start_time = time.perf_counter()\n",
    "    b = db.read_text('transcript.txt', blocksize=block)\n",
    "    wordcount = b.str.split().flatten().frequencies().topk(10, lambda x: x[1])\n",
    "    output = wordcount.compute()\n",
    "    end_time = time.perf_counter()\n",
    "    block = block * 10\n",
    "    timings[i] = end_time-start_time\n",
    "\n",
    "#What do you notice about the output?\n",
    "print(output)"
   ]
  },
  {
   "cell_type": "code",
   "execution_count": null,
   "metadata": {},
   "outputs": [
    {
     "data": {
      "image/png": "[encoded data removed]",
      "text/plain": [
       "<Figure size 640x480 with 1 Axes>"
      ]
     },
     "metadata": {},
     "output_type": "display_data"
    }
   ],
   "source": [
    "lists = sorted(timings.items()) # sorted by key, return a list of tuples\n",
    "x, y = zip(*lists) # unpack a list of pairs into two tuples\n",
    "plt.plot(x, y)\n",
    "plt.show()\n",
    "\n",
    "# When is Dask most efficient?"
   ]
  },
  {
   "cell_type": "code",
   "execution_count": null,
   "metadata": {},
   "outputs": [],
   "source": []
  },
  {
   "cell_type": "code",
   "execution_count": null,
   "metadata": {},
   "outputs": [],
   "source": [
    "#Challenge - Do better.\n",
    "#1. Better time\n",
    "#2. Better output\n",
    "\n",
    "block = 10\n",
    "TOP_20 = 20\n",
    "stopword_set = []\n",
    "\n",
    "def filter_stopword(word, stopwords) :\n",
    "    return word not in stopwords\n",
    "\n",
    "def filter_stopwords(words, stopwords) :\n",
    "    return list(filter(partial(filter_stopword, stopwords=stopwords), words))\n",
    "\n",
    "print(\"Block size = \",  block)\n",
    "start_time = time.perf_counter()\n",
    "b = db.read_text('transcript.txt', blocksize=block)\n",
    "\n",
    "                          ### Added a step to filter stopwords.\n",
    "wordcount = b.str.split().map(partial(filter_stopwords, stopwords=stopword_set)).flatten().frequencies().topk(TOP_20, lambda x: x[1])\n",
    "output = wordcount.compute()\n",
    "end_time = time.perf_counter()\n",
    "\n",
    "print(output)\n",
    "print(\"This run took \", end_time - start_time)"
   ]
  }
 ],
 "metadata": {
  "kernelspec": {
   "display_name": "Python 3",
   "language": "python",
   "name": "python3"
  },
  "language_info": {
   "codemirror_mode": {
    "name": "ipython",
    "version": 3
   },
   "file_extension": ".py",
   "mimetype": "text/x-python",
   "name": "python",
   "nbconvert_exporter": "python",
   "pygments_lexer": "ipython3",
   "version": "3.10.11"
  }
 },
 "nbformat": 4,
 "nbformat_minor": 2
}

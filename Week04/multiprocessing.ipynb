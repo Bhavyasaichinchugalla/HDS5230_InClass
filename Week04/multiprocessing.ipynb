{
 "cells": [
  {
   "cell_type": "code",
   "execution_count": 1,
   "metadata": {},
   "outputs": [],
   "source": [
    "from multiprocessing import Process\n",
    "import time"
   ]
  },
  {
   "cell_type": "code",
   "execution_count": 2,
   "metadata": {},
   "outputs": [],
   "source": [
    "def wordcount(text) :\n",
    "    arr = text.upper().split(\" \")\n",
    "    wc = {}\n",
    "    for word in arr :\n",
    "        if word in wc.keys() :\n",
    "            wc[word] = wc[word]+1\n",
    "        else :\n",
    "            wc[word] = 1\n",
    "    print(wc)"
   ]
  },
  {
   "cell_type": "code",
   "execution_count": 3,
   "metadata": {},
   "outputs": [
    {
     "name": "stdout",
     "output_type": "stream",
     "text": [
      "Program finished in 0.27881360000174027 seconds - using multiprocessing\n",
      "---\n",
      "{'THE': 2, 'QUICK': 1, 'BROWN': 1, 'FOX': 1, 'JUMPED': 1, 'OVER': 1, 'LAZY': 1, 'DOG.': 1}\n",
      "Program finished in 4.839999019168317e-05 seconds - using direct calls\n",
      "---\n"
     ]
    }
   ],
   "source": [
    "str = \"The quick brown fox jumped over the lazy dog.\"\n",
    "start_time = time.perf_counter()\n",
    "p = Process(target = wordcount, args = str)\n",
    "p.start()\n",
    "p.join()\n",
    "finish_time = time.perf_counter()\n",
    "print(\"Program finished in {} seconds - using multiprocessing\".format(finish_time-start_time))\n",
    "print(\"---\")\n",
    "\n",
    "start_time = time.perf_counter()\n",
    "wordcount(str)\n",
    "finish_time = time.perf_counter()\n",
    "print(\"Program finished in {} seconds - using direct calls\".format(finish_time-start_time))\n",
    "print(\"---\")"
   ]
  }
 ],
 "metadata": {
  "kernelspec": {
   "display_name": "Python 3",
   "language": "python",
   "name": "python3"
  },
  "language_info": {
   "codemirror_mode": {
    "name": "ipython",
    "version": 3
   },
   "file_extension": ".py",
   "mimetype": "text/x-python",
   "name": "python",
   "nbconvert_exporter": "python",
   "pygments_lexer": "ipython3",
   "version": "3.10.11"
  }
 },
 "nbformat": 4,
 "nbformat_minor": 2
}

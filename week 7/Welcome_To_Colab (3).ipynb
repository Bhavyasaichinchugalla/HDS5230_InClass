{
  "cells": [
    {
      "cell_type": "markdown",
      "source": [
        "Name : Bhavyasai Chinchugalla\n",
        "       \n",
        "       High Performance Computing - 07\n",
        "      \n",
        "       Week 07 - Spark Application\n",
        "\n",
        "Banner Id : 001321696"
      ],
      "metadata": {
        "id": "pD-zRQ6WKTRK"
      }
    },
    {
      "cell_type": "code",
      "source": [
        "from pyspark.sql import SparkSession\n",
        "\n",
        "# Create Spark session\n",
        "spark = SparkSession.builder \\\n",
        "    .appName(\"OpenPaymentsAnalysis\") \\\n",
        "    .getOrCreate()\n"
      ],
      "metadata": {
        "id": "9w09Npz0oZ0f"
      },
      "execution_count": 123,
      "outputs": []
    },
    {
      "cell_type": "code",
      "source": [
        "import os\n",
        "\n",
        "print(\"File exists:\", os.path.exists(\"PGYR2023_P01302025_01212025.zip\"))\n",
        "print(\"File size:\", os.path.getsize(\"PGYR2023_P01302025_01212025.zip\"), \"bytes\")\n"
      ],
      "metadata": {
        "colab": {
          "base_uri": "https://localhost:8080/"
        },
        "id": "9a0qkc3Rq26v",
        "outputId": "20134d00-62fd-4fe1-83ae-d61880372a2c"
      },
      "execution_count": 127,
      "outputs": [
        {
          "output_type": "stream",
          "name": "stdout",
          "text": [
            "File exists: True\n",
            "File size: 789005271 bytes\n"
          ]
        }
      ]
    },
    {
      "cell_type": "code",
      "source": [
        "with open(\"PGYR2023_P01302025_01212025.zip\", \"rb\") as f:\n",
        "    print(f.read(4))\n"
      ],
      "metadata": {
        "colab": {
          "base_uri": "https://localhost:8080/"
        },
        "id": "inxMO9Kuq77R",
        "outputId": "d0119056-6624-452e-a628-3937ff66a49f"
      },
      "execution_count": 128,
      "outputs": [
        {
          "output_type": "stream",
          "name": "stdout",
          "text": [
            "b'PK\\x03\\x04'\n"
          ]
        }
      ]
    },
    {
      "cell_type": "code",
      "source": [
        "import zipfile\n",
        "import os\n",
        "\n",
        "zip_path = \"PGYR2023_P01302025_01212025.zip\"\n",
        "extract_dir = \"openpayments\"\n",
        "\n",
        "# Create the directory if it doesn't exist\n",
        "os.makedirs(extract_dir, exist_ok=True)\n",
        "\n",
        "# Try unzipping again\n",
        "with zipfile.ZipFile(zip_path, 'r') as zip_ref:\n",
        "    zip_ref.extractall(extract_dir)\n",
        "\n",
        "# Check contents\n",
        "os.listdir(extract_dir)\n"
      ],
      "metadata": {
        "colab": {
          "base_uri": "https://localhost:8080/"
        },
        "id": "w6PJVtf_rkfQ",
        "outputId": "4ec9dcce-7a79-42e8-9cd7-ed56c4615646"
      },
      "execution_count": 129,
      "outputs": [
        {
          "output_type": "execute_result",
          "data": {
            "text/plain": [
              "['OP_DTL_RSRCH_PGYR2023_P01302025_01212025.csv',\n",
              " 'OP_REMOVED_DELETED_PGYR2023_P01302025_01212025.csv',\n",
              " 'OP_DTL_GNRL_PGYR2023_P01302025_01212025.csv',\n",
              " 'OP_DTL_OWNRSHP_PGYR2023_P01302025_01212025.csv',\n",
              " 'OP_PGYR2023_README_P01302025.txt']"
            ]
          },
          "metadata": {},
          "execution_count": 129
        }
      ]
    },
    {
      "cell_type": "code",
      "source": [
        "import zipfile\n",
        "import os\n",
        "\n",
        "zip_path = \"PHPRFL_P01302025_01212025.zip\"\n",
        "extract_dir = \"covered_recipients\"\n",
        "\n",
        "os.makedirs(extract_dir, exist_ok=True)\n",
        "\n",
        "with zipfile.ZipFile(zip_path, 'r') as zip_ref:\n",
        "    zip_ref.extractall(extract_dir)\n",
        "\n",
        "# List the contents\n",
        "os.listdir(extract_dir)\n"
      ],
      "metadata": {
        "colab": {
          "base_uri": "https://localhost:8080/"
        },
        "id": "_UkC8SBysYPL",
        "outputId": "3e9879d4-eda9-4c71-b67f-1ad5d9e17a2c"
      },
      "execution_count": 130,
      "outputs": [
        {
          "output_type": "execute_result",
          "data": {
            "text/plain": [
              "['OP_CVRD_RCPNT_PRFL_SPLMTL_README_P01302025.txt',\n",
              " 'OP_CVRD_RCPNT_PRFL_SPLMTL_P01302025_01212025.csv']"
            ]
          },
          "metadata": {},
          "execution_count": 130
        }
      ]
    },
    {
      "cell_type": "code",
      "source": [
        "import os\n",
        "os.listdir(\"openpayments\")\n",
        "['OP_DTL_GNRL_PGYR2023_P01302025.csv']\n"
      ],
      "metadata": {
        "colab": {
          "base_uri": "https://localhost:8080/"
        },
        "id": "SHq-n-0QtOk6",
        "outputId": "8587fdb5-4c81-4b77-ea3e-b84cfbe9a832"
      },
      "execution_count": 131,
      "outputs": [
        {
          "output_type": "execute_result",
          "data": {
            "text/plain": [
              "['OP_DTL_GNRL_PGYR2023_P01302025.csv']"
            ]
          },
          "metadata": {},
          "execution_count": 131
        }
      ]
    },
    {
      "cell_type": "code",
      "source": [
        "csv_path = \"openpayments/OP_DTL_GNRL_PGYR2023_P01302025.csv\"\n"
      ],
      "metadata": {
        "id": "1McNyErjthnZ"
      },
      "execution_count": 132,
      "outputs": []
    },
    {
      "cell_type": "code",
      "source": [
        "import os\n",
        "os.listdir(\"openpayments\")\n"
      ],
      "metadata": {
        "colab": {
          "base_uri": "https://localhost:8080/"
        },
        "id": "26fTPXLnt96K",
        "outputId": "e18b424c-9a83-42e3-f4b5-74646c1d194a"
      },
      "execution_count": 133,
      "outputs": [
        {
          "output_type": "execute_result",
          "data": {
            "text/plain": [
              "['OP_DTL_RSRCH_PGYR2023_P01302025_01212025.csv',\n",
              " 'OP_REMOVED_DELETED_PGYR2023_P01302025_01212025.csv',\n",
              " 'OP_DTL_GNRL_PGYR2023_P01302025_01212025.csv',\n",
              " 'OP_DTL_OWNRSHP_PGYR2023_P01302025_01212025.csv',\n",
              " 'OP_PGYR2023_README_P01302025.txt']"
            ]
          },
          "metadata": {},
          "execution_count": 133
        }
      ]
    },
    {
      "cell_type": "code",
      "source": [
        "import os\n",
        "os.listdir(\"covered_recipients\")\n"
      ],
      "metadata": {
        "colab": {
          "base_uri": "https://localhost:8080/"
        },
        "id": "X6vMrUBt_Lh0",
        "outputId": "a6661bdd-8a8d-4937-a2b3-b46a898230cd"
      },
      "execution_count": 134,
      "outputs": [
        {
          "output_type": "execute_result",
          "data": {
            "text/plain": [
              "['OP_CVRD_RCPNT_PRFL_SPLMTL_README_P01302025.txt',\n",
              " 'OP_CVRD_RCPNT_PRFL_SPLMTL_P01302025_01212025.csv']"
            ]
          },
          "metadata": {},
          "execution_count": 134
        }
      ]
    },
    {
      "cell_type": "code",
      "source": [
        "from pyspark.sql.functions import concat_ws, col\n",
        "\n",
        "# Add full name if it's missing\n",
        "joined_df = joined_df.withColumn(\n",
        "    \"Physician_Name\",\n",
        "    concat_ws(\" \", col(\"Covered_Recipient_First_Name\"), col(\"Covered_Recipient_Last_Name\"))\n",
        ")\n"
      ],
      "metadata": {
        "id": "lT0s8Pw_Su7h"
      },
      "execution_count": 135,
      "outputs": []
    },
    {
      "cell_type": "code",
      "source": [
        "preview_df = joined_df.select(\n",
        "    \"Covered_Recipient_Profile_ID\",\n",
        "    \"Physician_Name\",\n",
        "    \"Covered_Recipient_Specialty_1\",\n",
        "    \"Recipient_State\",\n",
        "    \"Total_Amount_of_Payment_USDollars\",\n",
        "    \"Nature_of_Payment_or_Transfer_of_Value\"\n",
        ").limit(10)\n",
        "preview_pd = preview_df.toPandas()\n",
        "from tabulate import tabulate\n",
        "print(tabulate(preview_pd, headers=\"keys\", tablefmt=\"fancy_grid\"))\n",
        "\n"
      ],
      "metadata": {
        "colab": {
          "base_uri": "https://localhost:8080/"
        },
        "id": "gUy94axmAD-w",
        "outputId": "508e57d2-8384-4526-a16a-7493fa105ec7"
      },
      "execution_count": 139,
      "outputs": [
        {
          "output_type": "stream",
          "name": "stdout",
          "text": [
            "╒════╤════════════════════════════════╤═══════════════════════╤══════════════════════════════════════════════════════════════════════════════════════════╤═══════════════════╤═════════════════════════════════════╤══════════════════════════════════════════╕\n",
            "│    │   Covered_Recipient_Profile_ID │ Physician_Name        │ Covered_Recipient_Specialty_1                                                            │ Recipient_State   │   Total_Amount_of_Payment_USDollars │ Nature_of_Payment_or_Transfer_of_Value   │\n",
            "╞════╪════════════════════════════════╪═══════════════════════╪══════════════════════════════════════════════════════════════════════════════════════════╪═══════════════════╪═════════════════════════════════════╪══════════════════════════════════════════╡\n",
            "│  0 │                           3749 │ MICHAEL BIUNNO        │ Allopathic & Osteopathic Physicians|Psychiatry & Neurology|Psychiatry                    │ LA                │                               11.39 │ Food and Beverage                        │\n",
            "├────┼────────────────────────────────┼───────────────────────┼──────────────────────────────────────────────────────────────────────────────────────────┼───────────────────┼─────────────────────────────────────┼──────────────────────────────────────────┤\n",
            "│  1 │                           3749 │ MICHAEL BIUNNO        │ Allopathic & Osteopathic Physicians|Psychiatry & Neurology|Psychiatry                    │ LA                │                               18.15 │ Food and Beverage                        │\n",
            "├────┼────────────────────────────────┼───────────────────────┼──────────────────────────────────────────────────────────────────────────────────────────┼───────────────────┼─────────────────────────────────────┼──────────────────────────────────────────┤\n",
            "│  2 │                           5300 │ DANIEL HOWARD         │ Allopathic & Osteopathic Physicians|Pediatrics                                           │ TX                │                               16.62 │ Food and Beverage                        │\n",
            "├────┼────────────────────────────────┼───────────────────────┼──────────────────────────────────────────────────────────────────────────────────────────┼───────────────────┼─────────────────────────────────────┼──────────────────────────────────────────┤\n",
            "│  3 │                           5300 │ DANIEL HOWARD         │ Allopathic & Osteopathic Physicians|Pediatrics                                           │ TX                │                               16.52 │ Food and Beverage                        │\n",
            "├────┼────────────────────────────────┼───────────────────────┼──────────────────────────────────────────────────────────────────────────────────────────┼───────────────────┼─────────────────────────────────────┼──────────────────────────────────────────┤\n",
            "│  4 │                           5300 │ DANIEL HOWARD         │ Allopathic & Osteopathic Physicians|Pediatrics                                           │ TX                │                               15.98 │ Food and Beverage                        │\n",
            "├────┼────────────────────────────────┼───────────────────────┼──────────────────────────────────────────────────────────────────────────────────────────┼───────────────────┼─────────────────────────────────────┼──────────────────────────────────────────┤\n",
            "│  5 │                           7982 │ FRANK KUWAMURA        │ Allopathic & Osteopathic Physicians|Orthopaedic Surgery|Orthopaedic Surgery of the Spine │ TX                │                               71.58 │ Food and Beverage                        │\n",
            "├────┼────────────────────────────────┼───────────────────────┼──────────────────────────────────────────────────────────────────────────────────────────┼───────────────────┼─────────────────────────────────────┼──────────────────────────────────────────┤\n",
            "│  6 │                           9465 │ LAWANDA LAMAR BELLAMY │ Allopathic & Osteopathic Physicians|Pediatrics                                           │ LA                │                                9.13 │ Food and Beverage                        │\n",
            "├────┼────────────────────────────────┼───────────────────────┼──────────────────────────────────────────────────────────────────────────────────────────┼───────────────────┼─────────────────────────────────────┼──────────────────────────────────────────┤\n",
            "│  7 │                           9465 │ LAWANDA LAMAR BELLAMY │ Allopathic & Osteopathic Physicians|Pediatrics                                           │ LA                │                               16.16 │ Food and Beverage                        │\n",
            "├────┼────────────────────────────────┼───────────────────────┼──────────────────────────────────────────────────────────────────────────────────────────┼───────────────────┼─────────────────────────────────────┼──────────────────────────────────────────┤\n",
            "│  8 │                          15790 │ TIMOTHY CORBA         │ Allopathic & Osteopathic Physicians|Pediatrics                                           │ IN                │                               15.41 │ Food and Beverage                        │\n",
            "├────┼────────────────────────────────┼───────────────────────┼──────────────────────────────────────────────────────────────────────────────────────────┼───────────────────┼─────────────────────────────────────┼──────────────────────────────────────────┤\n",
            "│  9 │                          15790 │ TIMOTHY CORBA         │ Allopathic & Osteopathic Physicians|Pediatrics                                           │ IN                │                               20.39 │ Food and Beverage                        │\n",
            "╘════╧════════════════════════════════╧═══════════════════════╧══════════════════════════════════════════════════════════════════════════════════════════╧═══════════════════╧═════════════════════════════════════╧══════════════════════════════════════════╛\n"
          ]
        }
      ]
    },
    {
      "cell_type": "markdown",
      "source": [
        "Analysis 1: Nature of Payments > $1,000 by Count"
      ],
      "metadata": {
        "id": "NPiXwJYbKQ5P"
      }
    },
    {
      "cell_type": "code",
      "source": [
        "from pyspark.sql.functions import col, count as _count\n",
        "from tabulate import tabulate\n",
        "\n",
        "# Step 1: Perform Analysis in Spark\n",
        "analysis_1 = (\n",
        "    joined_df\n",
        "    .filter(col(\"Total_Amount_of_Payment_USDollars\") > 1000)\n",
        "    .na.drop(subset=[\"Nature_of_Payment_or_Transfer_of_Value\"])\n",
        "    .groupBy(\"Nature_of_Payment_or_Transfer_of_Value\")\n",
        "    .agg(_count(\"*\").alias(\"count\"))\n",
        "    .orderBy(col(\"count\").desc())\n",
        ")\n",
        "\n",
        "# Step 2: Convert to Pandas for clean table display\n",
        "analysis_1_pd = analysis_1.toPandas()\n",
        "\n",
        "# Show formatted table\n",
        "from tabulate import tabulate\n",
        "print(tabulate(analysis_1_pd, headers=\"keys\", tablefmt=\"fancy_grid\"))\n",
        "\n",
        "\n",
        "\n"
      ],
      "metadata": {
        "colab": {
          "base_uri": "https://localhost:8080/"
        },
        "id": "IaWXGOfRA57t",
        "outputId": "5cb79428-3a88-473d-8469-b5034dddcd0a"
      },
      "execution_count": 140,
      "outputs": [
        {
          "output_type": "stream",
          "name": "stdout",
          "text": [
            "╒════╤════════════════════════════════════════════════════════════════════════════════════════════════════════════════════════════════════════════════════╤═════════╕\n",
            "│    │ Nature_of_Payment_or_Transfer_of_Value                                                                                                             │   count │\n",
            "╞════╪════════════════════════════════════════════════════════════════════════════════════════════════════════════════════════════════════════════════════╪═════════╡\n",
            "│  0 │ Consulting Fee                                                                                                                                     │     530 │\n",
            "├────┼────────────────────────────────────────────────────────────────────────────────────────────────────────────────────────────────────────────────────┼─────────┤\n",
            "│  1 │ Compensation for services other than consulting, including serving as faculty or as a speaker at a venue other than a continuing education program │     189 │\n",
            "├────┼────────────────────────────────────────────────────────────────────────────────────────────────────────────────────────────────────────────────────┼─────────┤\n",
            "│  2 │ Royalty or License                                                                                                                                 │     149 │\n",
            "├────┼────────────────────────────────────────────────────────────────────────────────────────────────────────────────────────────────────────────────────┼─────────┤\n",
            "│  3 │ Honoraria                                                                                                                                          │     134 │\n",
            "├────┼────────────────────────────────────────────────────────────────────────────────────────────────────────────────────────────────────────────────────┼─────────┤\n",
            "│  4 │ Travel and Lodging                                                                                                                                 │     120 │\n",
            "├────┼────────────────────────────────────────────────────────────────────────────────────────────────────────────────────────────────────────────────────┼─────────┤\n",
            "│  5 │ Debt forgiveness                                                                                                                                   │      63 │\n",
            "├────┼────────────────────────────────────────────────────────────────────────────────────────────────────────────────────────────────────────────────────┼─────────┤\n",
            "│  6 │ Food and Beverage                                                                                                                                  │      18 │\n",
            "├────┼────────────────────────────────────────────────────────────────────────────────────────────────────────────────────────────────────────────────────┼─────────┤\n",
            "│  7 │ Gift                                                                                                                                               │      10 │\n",
            "├────┼────────────────────────────────────────────────────────────────────────────────────────────────────────────────────────────────────────────────────┼─────────┤\n",
            "│  8 │ Long term medical supply or device loan                                                                                                            │       8 │\n",
            "├────┼────────────────────────────────────────────────────────────────────────────────────────────────────────────────────────────────────────────────────┼─────────┤\n",
            "│  9 │ Education                                                                                                                                          │       4 │\n",
            "├────┼────────────────────────────────────────────────────────────────────────────────────────────────────────────────────────────────────────────────────┼─────────┤\n",
            "│ 10 │ Compensation for serving as faculty or as a speaker for a medical education program                                                                │       2 │\n",
            "╘════╧════════════════════════════════════════════════════════════════════════════════════════════════════════════════════════════════════════════════════╧═════════╛\n"
          ]
        }
      ]
    },
    {
      "cell_type": "markdown",
      "source": [
        "Analysis 2: Top 10 Nature of Payments by Count"
      ],
      "metadata": {
        "id": "kBGgetqHKEhJ"
      }
    },
    {
      "cell_type": "code",
      "source": [
        "from pyspark.sql.functions import count as _count, col\n",
        "import pandas as pd\n",
        "from IPython.display import display\n",
        "import tabulate\n",
        "\n",
        "# Analysis 2: Top 10 most frequent Nature of Payments\n",
        "analysis_2 = (\n",
        "    joined_df\n",
        "    .na.drop(subset=[\"Nature_of_Payment_or_Transfer_of_Value\"])\n",
        "    .groupBy(\"Nature_of_Payment_or_Transfer_of_Value\")\n",
        "    .agg(_count(\"*\").alias(\"count\"))\n",
        "    .orderBy(col(\"count\").desc())\n",
        "    .limit(10)\n",
        ")\n",
        "\n",
        "# Convert to Pandas for clean table display\n",
        "analysis_2_pd = analysis_2.toPandas()\n",
        "\n",
        "# Show formatted table\n",
        "from tabulate import tabulate\n",
        "print(tabulate(analysis_2_pd, headers=\"keys\", tablefmt=\"fancy_grid\"))\n"
      ],
      "metadata": {
        "colab": {
          "base_uri": "https://localhost:8080/"
        },
        "id": "IfuTloI0C44C",
        "outputId": "c8c37075-9c20-462f-b19e-70421f22f2af"
      },
      "execution_count": 141,
      "outputs": [
        {
          "output_type": "stream",
          "name": "stdout",
          "text": [
            "╒════╤════════════════════════════════════════════════════════════════════════════════════════════════════════════════════════════════════════════════════╤═════════╕\n",
            "│    │ Nature_of_Payment_or_Transfer_of_Value                                                                                                             │   count │\n",
            "╞════╪════════════════════════════════════════════════════════════════════════════════════════════════════════════════════════════════════════════════════╪═════════╡\n",
            "│  0 │ Food and Beverage                                                                                                                                  │   95470 │\n",
            "├────┼────────────────────────────────────────────────────────────────────────────────────────────────────────────────────────────────────────────────────┼─────────┤\n",
            "│  1 │ Compensation for services other than consulting, including serving as faculty or as a speaker at a venue other than a continuing education program │    1109 │\n",
            "├────┼────────────────────────────────────────────────────────────────────────────────────────────────────────────────────────────────────────────────────┼─────────┤\n",
            "│  2 │ Gift                                                                                                                                               │     744 │\n",
            "├────┼────────────────────────────────────────────────────────────────────────────────────────────────────────────────────────────────────────────────────┼─────────┤\n",
            "│  3 │ Consulting Fee                                                                                                                                     │     690 │\n",
            "├────┼────────────────────────────────────────────────────────────────────────────────────────────────────────────────────────────────────────────────────┼─────────┤\n",
            "│  4 │ Travel and Lodging                                                                                                                                 │     682 │\n",
            "├────┼────────────────────────────────────────────────────────────────────────────────────────────────────────────────────────────────────────────────────┼─────────┤\n",
            "│  5 │ Entertainment                                                                                                                                      │     417 │\n",
            "├────┼────────────────────────────────────────────────────────────────────────────────────────────────────────────────────────────────────────────────────┼─────────┤\n",
            "│  6 │ Honoraria                                                                                                                                          │     214 │\n",
            "├────┼────────────────────────────────────────────────────────────────────────────────────────────────────────────────────────────────────────────────────┼─────────┤\n",
            "│  7 │ Royalty or License                                                                                                                                 │     199 │\n",
            "├────┼────────────────────────────────────────────────────────────────────────────────────────────────────────────────────────────────────────────────────┼─────────┤\n",
            "│  8 │ Debt forgiveness                                                                                                                                   │      70 │\n",
            "├────┼────────────────────────────────────────────────────────────────────────────────────────────────────────────────────────────────────────────────────┼─────────┤\n",
            "│  9 │ Education                                                                                                                                          │      26 │\n",
            "╘════╧════════════════════════════════════════════════════════════════════════════════════════════════════════════════════════════════════════════════════╧═════════╛\n"
          ]
        }
      ]
    },
    {
      "cell_type": "markdown",
      "source": [
        "Analysis 3: Top 10 Nature of Payments by Total Amount"
      ],
      "metadata": {
        "id": "ZtY9iyoCJ9-v"
      }
    },
    {
      "cell_type": "code",
      "source": [
        "from pyspark.sql.functions import sum as _sum, col\n",
        "import pandas as pd\n",
        "from IPython.display import display\n",
        "import tabulate\n",
        "\n",
        "# Analysis 3: Top 10 Nature of Payments by Total Amount\n",
        "analysis_3 = (\n",
        "    joined_df\n",
        "    .na.drop(subset=[\"Nature_of_Payment_or_Transfer_of_Value\", \"Total_Amount_of_Payment_USDollars\"])\n",
        "    .groupBy(\"Nature_of_Payment_or_Transfer_of_Value\")\n",
        "    .agg(_sum(\"Total_Amount_of_Payment_USDollars\").alias(\"total_amount\"))\n",
        "    .orderBy(col(\"total_amount\").desc())\n",
        "    .limit(10)\n",
        ")\n",
        "\n",
        "# Convert to Pandas DataFrame for display\n",
        "analysis_3_pd = analysis_3.toPandas()\n",
        "\n",
        "# Show formatted table\n",
        "from tabulate import tabulate\n",
        "print(tabulate(analysis_3_pd, headers=\"keys\", tablefmt=\"fancy_grid\"))\n"
      ],
      "metadata": {
        "colab": {
          "base_uri": "https://localhost:8080/"
        },
        "id": "zC3j0URVDZkp",
        "outputId": "7173a609-279f-46bb-f126-62de421d868c"
      },
      "execution_count": 142,
      "outputs": [
        {
          "output_type": "stream",
          "name": "stdout",
          "text": [
            "╒════╤════════════════════════════════════════════════════════════════════════════════════════════════════════════════════════════════════════════════════╤══════════════════╕\n",
            "│    │ Nature_of_Payment_or_Transfer_of_Value                                                                                                             │     total_amount │\n",
            "╞════╪════════════════════════════════════════════════════════════════════════════════════════════════════════════════════════════════════════════════════╪══════════════════╡\n",
            "│  0 │ Consulting Fee                                                                                                                                     │      3.35086e+06 │\n",
            "├────┼────────────────────────────────────────────────────────────────────────────────────────────────────────────────────────────────────────────────────┼──────────────────┤\n",
            "│  1 │ Royalty or License                                                                                                                                 │      3.2124e+06  │\n",
            "├────┼────────────────────────────────────────────────────────────────────────────────────────────────────────────────────────────────────────────────────┼──────────────────┤\n",
            "│  2 │ Compensation for services other than consulting, including serving as faculty or as a speaker at a venue other than a continuing education program │      3.12038e+06 │\n",
            "├────┼────────────────────────────────────────────────────────────────────────────────────────────────────────────────────────────────────────────────────┼──────────────────┤\n",
            "│  3 │ Food and Beverage                                                                                                                                  │      2.41385e+06 │\n",
            "├────┼────────────────────────────────────────────────────────────────────────────────────────────────────────────────────────────────────────────────────┼──────────────────┤\n",
            "│  4 │ Travel and Lodging                                                                                                                                 │ 599956           │\n",
            "├────┼────────────────────────────────────────────────────────────────────────────────────────────────────────────────────────────────────────────────────┼──────────────────┤\n",
            "│  5 │ Honoraria                                                                                                                                          │ 448440           │\n",
            "├────┼────────────────────────────────────────────────────────────────────────────────────────────────────────────────────────────────────────────────────┼──────────────────┤\n",
            "│  6 │ Debt forgiveness                                                                                                                                   │ 279928           │\n",
            "├────┼────────────────────────────────────────────────────────────────────────────────────────────────────────────────────────────────────────────────────┼──────────────────┤\n",
            "│  7 │ Gift                                                                                                                                               │  77982.1         │\n",
            "├────┼────────────────────────────────────────────────────────────────────────────────────────────────────────────────────────────────────────────────────┼──────────────────┤\n",
            "│  8 │ Long term medical supply or device loan                                                                                                            │  30625.7         │\n",
            "├────┼────────────────────────────────────────────────────────────────────────────────────────────────────────────────────────────────────────────────────┼──────────────────┤\n",
            "│  9 │ Entertainment                                                                                                                                      │  17085.9         │\n",
            "╘════╧════════════════════════════════════════════════════════════════════════════════════════════════════════════════════════════════════════════════════╧══════════════════╛\n"
          ]
        }
      ]
    },
    {
      "cell_type": "markdown",
      "source": [
        "Analysis 4: Top 10 Specialties by Total Amount"
      ],
      "metadata": {
        "id": "VNUH9t_eJ331"
      }
    },
    {
      "cell_type": "code",
      "source": [
        "from pyspark.sql.functions import sum as _sum, col\n",
        "import pandas as pd\n",
        "from IPython.display import display\n",
        "import tabulate\n",
        "\n",
        "# Analysis 4: Top 10 specialties by total payment amount\n",
        "analysis_4 = (\n",
        "    joined_df\n",
        "    .na.drop(subset=[\"Covered_Recipient_Specialty_1\", \"Total_Amount_of_Payment_USDollars\"])\n",
        "    .groupBy(\"Covered_Recipient_Specialty_1\")\n",
        "    .agg(_sum(\"Total_Amount_of_Payment_USDollars\").alias(\"total_amount\"))\n",
        "    .orderBy(col(\"total_amount\").desc())\n",
        "    .limit(10)\n",
        ")\n",
        "\n",
        "# Convert to Pandas DataFrame for pretty printing\n",
        "analysis_4_pd = analysis_4.toPandas()\n",
        "\n",
        "# Show formatted table\n",
        "from tabulate import tabulate\n",
        "print(tabulate(analysis_4_pd, headers=\"keys\", tablefmt=\"fancy_grid\"))\n"
      ],
      "metadata": {
        "colab": {
          "base_uri": "https://localhost:8080/"
        },
        "id": "ANQdb9OYEHTy",
        "outputId": "c604fa5b-eaf2-4ea3-f56a-73cfa06c2f91"
      },
      "execution_count": 143,
      "outputs": [
        {
          "output_type": "stream",
          "name": "stdout",
          "text": [
            "╒════╤══════════════════════════════════════════════════════════════════════════════════════════╤══════════════════╕\n",
            "│    │ Covered_Recipient_Specialty_1                                                            │     total_amount │\n",
            "╞════╪══════════════════════════════════════════════════════════════════════════════════════════╪══════════════════╡\n",
            "│  0 │ Allopathic & Osteopathic Physicians|Orthopaedic Surgery                                  │      2.11226e+06 │\n",
            "├────┼──────────────────────────────────────────────────────────────────────────────────────────┼──────────────────┤\n",
            "│  1 │ Allopathic & Osteopathic Physicians|Pathology|Blood Banking & Transfusion Medicine       │      1.82558e+06 │\n",
            "├────┼──────────────────────────────────────────────────────────────────────────────────────────┼──────────────────┤\n",
            "│  2 │ Allopathic & Osteopathic Physicians|Orthopaedic Surgery|Orthopaedic Surgery of the Spine │ 752959           │\n",
            "├────┼──────────────────────────────────────────────────────────────────────────────────────────┼──────────────────┤\n",
            "│  3 │ Allopathic & Osteopathic Physicians|Internal Medicine|Hematology                         │ 711632           │\n",
            "├────┼──────────────────────────────────────────────────────────────────────────────────────────┼──────────────────┤\n",
            "│  4 │ Allopathic & Osteopathic Physicians|Neurological Surgery                                 │ 640488           │\n",
            "├────┼──────────────────────────────────────────────────────────────────────────────────────────┼──────────────────┤\n",
            "│  5 │ Allopathic & Osteopathic Physicians|Emergency Medicine                                   │ 551381           │\n",
            "├────┼──────────────────────────────────────────────────────────────────────────────────────────┼──────────────────┤\n",
            "│  6 │ Allopathic & Osteopathic Physicians|Ophthalmology                                        │ 514329           │\n",
            "├────┼──────────────────────────────────────────────────────────────────────────────────────────┼──────────────────┤\n",
            "│  7 │ Allopathic & Osteopathic Physicians|Internal Medicine|Rheumatology                       │ 351166           │\n",
            "├────┼──────────────────────────────────────────────────────────────────────────────────────────┼──────────────────┤\n",
            "│  8 │ Allopathic & Osteopathic Physicians|Internal Medicine|Cardiovascular Disease             │ 340798           │\n",
            "├────┼──────────────────────────────────────────────────────────────────────────────────────────┼──────────────────┤\n",
            "│  9 │ Dental Providers|Dentist                                                                 │ 318802           │\n",
            "╘════╧══════════════════════════════════════════════════════════════════════════════════════════╧══════════════════╛\n"
          ]
        }
      ]
    },
    {
      "cell_type": "markdown",
      "source": [
        "Analysis 5: Top 10 Physicians by Total Amount"
      ],
      "metadata": {
        "id": "QvPPwh1RJu7a"
      }
    },
    {
      "cell_type": "code",
      "source": [
        "from pyspark.sql.functions import concat_ws, sum as _sum, col\n",
        "import pandas as pd\n",
        "from IPython.display import display\n",
        "import tabulate\n",
        "\n",
        "# Create full physician name column\n",
        "joined_df = joined_df.withColumn(\n",
        "    \"Physician_Name\",\n",
        "    concat_ws(\" \", col(\"Covered_Recipient_First_Name\"), col(\"Covered_Recipient_Last_Name\"))\n",
        ")\n",
        "\n",
        "# Group by name and total payment\n",
        "analysis_5 = (\n",
        "    joined_df\n",
        "    .filter(col(\"Physician_Name\") != \"\")\n",
        "    .groupBy(\"Physician_Name\")\n",
        "    .agg(_sum(\"Total_Amount_of_Payment_USDollars\").alias(\"total_amount\"))\n",
        "    .orderBy(col(\"total_amount\").desc())\n",
        "    .limit(10)\n",
        ")\n",
        "\n",
        "# Convert to Pandas for pretty printing\n",
        "analysis_5_pd = analysis_5.toPandas()\n",
        "\n",
        "# Show formatted table\n",
        "from tabulate import tabulate\n",
        "print(tabulate(analysis_5_pd, headers=\"keys\", tablefmt=\"fancy_grid\"))\n"
      ],
      "metadata": {
        "colab": {
          "base_uri": "https://localhost:8080/"
        },
        "id": "BwQhmoR7EzW_",
        "outputId": "2908ab6a-1153-4ebd-dc73-8091194a6b31"
      },
      "execution_count": 144,
      "outputs": [
        {
          "output_type": "stream",
          "name": "stdout",
          "text": [
            "╒════╤════════════════════╤══════════════════╕\n",
            "│    │ Physician_Name     │     total_amount │\n",
            "╞════╪════════════════════╪══════════════════╡\n",
            "│  0 │ Shawn ODriscoll    │      1.33381e+06 │\n",
            "├────┼────────────────────┼──────────────────┤\n",
            "│  1 │ Darrell Triulzi    │ 561711           │\n",
            "├────┼────────────────────┼──────────────────┤\n",
            "│  2 │ MICHAEL GOULD      │ 417266           │\n",
            "├────┼────────────────────┼──────────────────┤\n",
            "│  3 │ Lirong Qu          │ 385608           │\n",
            "├────┼────────────────────┼──────────────────┤\n",
            "│  4 │ Mark Yazer         │ 385261           │\n",
            "├────┼────────────────────┼──────────────────┤\n",
            "│  5 │ MARK BORIGINI      │ 347780           │\n",
            "├────┼────────────────────┼──────────────────┤\n",
            "│  6 │ Irina Chibisov     │ 337133           │\n",
            "├────┼────────────────────┼──────────────────┤\n",
            "│  7 │ Alesia Kaplan      │ 323518           │\n",
            "├────┼────────────────────┼──────────────────┤\n",
            "│  8 │ Sally Campbell-Lee │ 239896           │\n",
            "├────┼────────────────────┼──────────────────┤\n",
            "│  9 │ Suzanne Bakdash    │ 228600           │\n",
            "╘════╧════════════════════╧══════════════════╛\n"
          ]
        }
      ]
    }
  ],
  "metadata": {
    "colab": {
      "name": "Welcome To Colab",
      "provenance": []
    },
    "kernelspec": {
      "display_name": "Python 3",
      "name": "python3"
    }
  },
  "nbformat": 4,
  "nbformat_minor": 0
}
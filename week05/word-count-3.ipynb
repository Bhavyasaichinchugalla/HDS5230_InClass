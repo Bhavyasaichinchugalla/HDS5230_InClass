{
 "cells": [
  {
   "cell_type": "code",
   "execution_count": null,
   "metadata": {},
   "outputs": [],
   "source": [
    "import dask\n",
    "import dask.dataframe as dd\n",
    "import string\n",
    "from functools import partial\n",
    "\n",
    "def remove_punctuation(text) :\n",
    "    \"\"\"Removes punctuation from text.\n",
    "    >>> remove_punctuation(\"Hello, world\")\n",
    "    'Hello world'\n",
    "\n",
    "    \"\"\"\n",
    "    return ''.join(filter(lambda x: x not in string.punctuation, text))\n",
    "\n",
    "stop_words = [\"a\", \"an\", \"the\", \"and\", \"but\", \"or\", \"because\", \"as\", \"until\", \"while\", \"of\", \"at\", \"by\", \"for\", \"with\", \"about\", \"against\", \"between\", \"into\", \"through\", \"during\", \"before\", \"after\", \"above\", \"below\", \"to\", \"from\", \"up\", \"down\", \"in\", \"out\", \"on\", \"off\", \"over\", \"under\", \"again\", \"further\", \"then\", \"once\", \"here\", \"there\", \"when\", \"where\", \"why\", \"how\", \"all\", \"any\", \"both\", \"each\", \"few\", \"more\", \"most\", \"other\", \"some\", \"such\", \"no\", \"nor\", \"not\", \"only\", \"own\", \"same\", \"so\", \"than\", \"too\", \"very\", \"can\", \"will\", \"just\"]\n",
    "\n",
    "def remove_stop_words(text) :\n",
    "    \"\"\"Removes stop words from text.\n",
    "    >>> remove_stop_words(\"The quick brown fox jumps over the lazy dog.\")\n",
    "    'quick brown fox jumps lazy dog.'\n",
    "\n",
    "    \"\"\"\n",
    "    \n",
    "    return ' '.join(filter(lambda x: x.lower() not in stop_words, text.split()))"
   ]
  },
  {
   "cell_type": "code",
   "execution_count": null,
   "metadata": {},
   "outputs": [],
   "source": [
    "# Apply the function to all string columns\n",
    "def apply_to_strings(df, func, col_name):\n",
    "    for col in df.columns:\n",
    "        if df[col].dtype == 'object' and col == col_name :  # Check if the column is of string type\n",
    "                df[col] = df[col].map(func)\n",
    "    return df"
   ]
  },
  {
   "cell_type": "code",
   "execution_count": null,
   "metadata": {},
   "outputs": [],
   "source": [
    "def read_csv(filename) :\n",
    "    df = dd.read_csv(filename, delimiter=\"|\", sample=10000)\n",
    "    df.astype({'Year': int, 'Brand': str, 'Company': str, 'Date': str, 'ProductDescription': str,'Url': object} )\n",
    "    del(df[\"Url\"])\n",
    "    return df"
   ]
  },
  {
   "cell_type": "code",
   "execution_count": null,
   "metadata": {},
   "outputs": [],
   "source": [
    "df = read_csv(\"recalls2018.csv\")\n",
    "for x in range (2019, 2025) :\n",
    "    new_df = read_csv(\"recalls{}.csv\".format(x))\n",
    "    df = dask.dataframe.concat([df, new_df])\n",
    "\n",
    "ddd = df.map_partitions(partial(apply_to_strings, func=remove_punctuation, col_name=\"Reason\")) \\\n",
    "    .map_partitions(partial(apply_to_strings, func=remove_stop_words, col_name=\"Reason\")) \\\n",
    "    .assign(reason_list = lambda x: x[\"Reason\"].str.split()) \\\n",
    "    .explode(\"reason_list\") \\\n",
    "    .groupby(\"reason_list\") \\\n",
    "    .count() \\\n",
    "    .sort_values(\"Year\", ascending=False)\n",
    "\n",
    "ddd.visualize()"
   ]
  },
  {
   "cell_type": "code",
   "execution_count": null,
   "metadata": {},
   "outputs": [],
   "source": [
    "ddd.compute()\n",
    "ddd.head(10)"
   ]
  }
 ],
 "metadata": {
  "kernelspec": {
   "display_name": "base",
   "language": "python",
   "name": "python3"
  },
  "language_info": {
   "codemirror_mode": {
    "name": "ipython",
    "version": 3
   },
   "file_extension": ".py",
   "mimetype": "text/x-python",
   "name": "python",
   "nbconvert_exporter": "python",
   "pygments_lexer": "ipython3",
   "version": "3.12.7"
  }
 },
 "nbformat": 4,
 "nbformat_minor": 2
}

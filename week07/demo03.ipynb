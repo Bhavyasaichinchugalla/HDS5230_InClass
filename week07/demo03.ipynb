{
 "cells": [
  {
   "cell_type": "code",
   "execution_count": null,
   "metadata": {},
   "outputs": [],
   "source": [
    "from pyspark.sql.types import StructType, StructField, StringType, IntegerType, DoubleType, BooleanType\n",
    "\n",
    "# ApplNo\tProductNo\tForm\tStrength\tReferenceDrug\tDrugName\tActiveIngredient\tReferenceStandard\n",
    "\n",
    "schema = StructType([\n",
    "    StructField(\"ApplNo\", StringType(), nullable=False),\n",
    "    StructField(\"ProductNo\", StringType(), nullable=False),\n",
    "    StructField(\"Form\", StringType(), nullable=False),\n",
    "    StructField(\"Strength\", StringType(), nullable=False),\n",
    "    StructField(\"ReferenceDrug\", IntegerType(), nullable=True),\n",
    "    StructField(\"DrugName\", StringType(), nullable=True),\n",
    "    StructField(\"ActiveIngredient\", StringType(), nullable=False),\n",
    "    StructField(\"ReferenceStandard\", IntegerType(), nullable=False),\n",
    "])"
   ]
  },
  {
   "cell_type": "code",
   "execution_count": null,
   "metadata": {},
   "outputs": [],
   "source": [
    "# File location and type\n",
    "file_location = \"/FileStore/tables/Products.txt\"\n",
    "file_type = \"csv\"\n",
    "\n",
    "# CSV options\n",
    "infer_schema = \"true\"\n",
    "first_row_is_header = \"true\"\n",
    "delimiter = \"\\t\"\n",
    "\n",
    "# The applied options are for CSV files. For other file types, these will be ignored.\n",
    "product_df = spark.read.format(file_type) \\\n",
    "  .schema(schema) \\\n",
    "  .option(\"header\", first_row_is_header) \\\n",
    "  .option(\"sep\", delimiter) \\\n",
    "  .load(file_location)\n",
    "\n",
    "display(product_df)"
   ]
  },
  {
   "cell_type": "markdown",
   "metadata": {},
   "source": [
    "Load Application Data in with a schema of your own.\n"
   ]
  },
  {
   "cell_type": "code",
   "execution_count": null,
   "metadata": {},
   "outputs": [],
   "source": [
    "#Fields look like this:\n",
    "#ApplNo\tApplType\tApplPublicNotes\tSponsorName"
   ]
  }
 ],
 "metadata": {
  "language_info": {
   "name": "python"
  }
 },
 "nbformat": 4,
 "nbformat_minor": 2
}

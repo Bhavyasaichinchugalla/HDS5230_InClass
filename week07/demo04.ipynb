{
 "cells": [
  {
   "cell_type": "code",
   "execution_count": null,
   "metadata": {},
   "outputs": [],
   "source": [
    "from pyspark.sql.types import StructType, StructField, StringType, IntegerType, DoubleType, BooleanType\n",
    "import pyspark.sql.functions\n",
    "\n",
    "# ApplNo\tProductNo\tForm\tStrength\tReferenceDrug\tDrugName\tActiveIngredient\tReferenceStandard\n",
    "\n",
    "schema = StructType([\n",
    "    StructField(\"ApplNo\", StringType(), nullable=False),\n",
    "    StructField(\"ProductNo\", StringType(), nullable=False),\n",
    "    StructField(\"Form\", StringType(), nullable=False),\n",
    "    StructField(\"Strength\", StringType(), nullable=False),\n",
    "    StructField(\"ReferenceDrug\", IntegerType(), nullable=True),\n",
    "    StructField(\"DrugName\", StringType(), nullable=True),\n",
    "    StructField(\"ActiveIngredient\", StringType(), nullable=False),\n",
    "    StructField(\"ReferenceStandard\", IntegerType(), nullable=False),\n",
    "])"
   ]
  },
  {
   "cell_type": "code",
   "execution_count": null,
   "metadata": {},
   "outputs": [],
   "source": [
    "# File location and type\n",
    "file_location = \"/FileStore/tables/Products.txt\"\n",
    "file_type = \"csv\"\n",
    "\n",
    "# CSV options\n",
    "infer_schema = \"true\"\n",
    "first_row_is_header = \"true\"\n",
    "delimiter = \"\\t\"\n",
    "\n",
    "# The applied options are for CSV files. For other file types, these will be ignored.\n",
    "product_df = spark.read.format(file_type) \\\n",
    "  .schema(schema) \\\n",
    "  .option(\"header\", first_row_is_header) \\\n",
    "  .option(\"sep\", delimiter) \\\n",
    "  .load(file_location)\n",
    "\n",
    "display(product_df)"
   ]
  },
  {
   "cell_type": "markdown",
   "metadata": {},
   "source": [
    "Select"
   ]
  },
  {
   "cell_type": "code",
   "execution_count": null,
   "metadata": {},
   "outputs": [
    {
     "ename": "NameError",
     "evalue": "name 'product_df' is not defined",
     "output_type": "error",
     "traceback": [
      "\u001b[1;31m---------------------------------------------------------------------------\u001b[0m",
      "\u001b[1;31mNameError\u001b[0m                                 Traceback (most recent call last)",
      "Cell \u001b[1;32mIn[1], line 1\u001b[0m\n\u001b[1;32m----> 1\u001b[0m product_df\u001b[38;5;241m.\u001b[39mselect(\u001b[38;5;124m\"\u001b[39m\u001b[38;5;124mdrugname\u001b[39m\u001b[38;5;124m\"\u001b[39m, \u001b[38;5;124m\"\u001b[39m\u001b[38;5;124mactiveIngredient\u001b[39m\u001b[38;5;124m\"\u001b[39m)\u001b[38;5;241m.\u001b[39mwhere(\u001b[38;5;124m\"\u001b[39m\u001b[38;5;124mform == \u001b[39m\u001b[38;5;124m'\u001b[39m\u001b[38;5;124mTABLET;ORAL\u001b[39m\u001b[38;5;124m'\u001b[39m\u001b[38;5;124m\"\u001b[39m)\u001b[38;5;241m.\u001b[39mshow()\n",
      "\u001b[1;31mNameError\u001b[0m: name 'product_df' is not defined"
     ]
    }
   ],
   "source": [
    "product_df.select(\"drugname\", \"activeIngredient\").where(\"form == 'TABLET;ORAL'\").show()\n",
    "\n"
   ]
  },
  {
   "cell_type": "code",
   "execution_count": null,
   "metadata": {},
   "outputs": [],
   "source": [
    "product_df.select(\"drugname\", pyspark.sql.functions.col(\"activeIngredient\").alias(\"AI\")).where(\"form == 'TABLET;ORAL'\").show()"
   ]
  },
  {
   "cell_type": "markdown",
   "metadata": {},
   "source": [
    "Select Expr"
   ]
  },
  {
   "cell_type": "code",
   "execution_count": null,
   "metadata": {},
   "outputs": [],
   "source": [
    "product_df.selectExpr(\"drugname\", \"activeIngredient\").where(\"form == 'TABLET;ORAL'\").show()"
   ]
  },
  {
   "cell_type": "code",
   "execution_count": null,
   "metadata": {},
   "outputs": [],
   "source": [
    "product_df.selectExpr(\"drugname\",\"activeIngredient as AI\").where(\"form == 'TABLET;ORAL'\").show()"
   ]
  },
  {
   "cell_type": "markdown",
   "metadata": {},
   "source": [
    "SQL"
   ]
  },
  {
   "cell_type": "code",
   "execution_count": null,
   "metadata": {},
   "outputs": [],
   "source": [
    "product_df.createOrReplaceTempView(\"Products\")\n",
    "spark.sql(\"select drugname, activeIngredient as AI from Products where form == 'TABLET;ORAL'\").show()"
   ]
  }
 ],
 "metadata": {
  "kernelspec": {
   "display_name": "base",
   "language": "python",
   "name": "python3"
  },
  "language_info": {
   "codemirror_mode": {
    "name": "ipython",
    "version": 3
   },
   "file_extension": ".py",
   "mimetype": "text/x-python",
   "name": "python",
   "nbconvert_exporter": "python",
   "pygments_lexer": "ipython3",
   "version": "3.12.7"
  }
 },
 "nbformat": 4,
 "nbformat_minor": 2
}

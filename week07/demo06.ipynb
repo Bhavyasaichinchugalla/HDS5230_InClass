{
 "cells": [
  {
   "cell_type": "code",
   "execution_count": null,
   "metadata": {},
   "outputs": [],
   "source": [
    "from pyspark.sql.types import StructType, StructField, StringType, IntegerType, DoubleType, BooleanType\n",
    "\n",
    "# File location and type\n",
    "file_location = \"/FileStore/tables/Patients.csv\"\n",
    "file_type = \"csv\"\n",
    "\n",
    "# CSV options\n",
    "infer_schema = \"true\"\n",
    "first_row_is_header = \"true\"\n",
    "delimiter = \",\"\n",
    "\n",
    "# The applied options are for CSV files. For other file types, these will be ignored.\n",
    "patient_df = spark.read.format(file_type) \\\n",
    "  .option(\"inferSchema\", infer_schema) \\\n",
    "  .option(\"header\", first_row_is_header) \\\n",
    "  .option(\"sep\", delimiter) \\\n",
    "  .load(file_location)\n",
    "\n",
    "display(patient_df)\n",
    "\n",
    "temp_table_name = \"Patients\"\n",
    "\n",
    "patient_df.createOrReplaceTempView(temp_table_name)"
   ]
  },
  {
   "cell_type": "markdown",
   "metadata": {},
   "source": [
    "Select"
   ]
  },
  {
   "cell_type": "code",
   "execution_count": null,
   "metadata": {},
   "outputs": [],
   "source": [
    "patient_df.groupBy(\"insurance_provider\").pivot(\"gender\").count().explain()\n",
    "\n",
    "patient_df.groupBy(\"insurance_provider\").pivot(\"gender\").count().show()"
   ]
  },
  {
   "cell_type": "markdown",
   "metadata": {},
   "source": [
    "SQL"
   ]
  },
  {
   "cell_type": "code",
   "execution_count": null,
   "metadata": {},
   "outputs": [],
   "source": [
    "spark.sql('select insurance_provider, Female, Male from (select insurance_provider, gender from patients ) as source pivot( count (1) for gender in (\"Male\", \"Female\"))').explain()\n",
    "\n",
    "spark.sql('select insurance_provider, Female, Male from (select insurance_provider, gender from patients ) as source pivot( count (1) for gender in (\"Male\", \"Female\"))').show()"
   ]
  },
  {
   "cell_type": "markdown",
   "metadata": {},
   "source": [
    "Create your own pivot table grouping patients by Medical Condition and pivoting Medication"
   ]
  }
 ],
 "metadata": {
  "kernelspec": {
   "display_name": "base",
   "language": "python",
   "name": "python3"
  },
  "language_info": {
   "name": "python",
   "version": "3.12.7"
  }
 },
 "nbformat": 4,
 "nbformat_minor": 2
}
